{
 "cells": [
  {
   "cell_type": "markdown",
   "metadata": {},
   "source": [
    "# Notes About Data Runs\n",
    "There are two protein structures attempted to be calculated using `ibp-ng`.\n",
    "\n",
    "The first is an alpha-helix sequence that came with the program. This is in the \"alpha/\" folder in \"data/\". This sequence of amino acids is a subset of a protein involved in flagellar motor movement ([see this reference](https://www.ncbi.nlm.nih.gov/protein/KRB17197?report=genbank&log$=protalign&blast_rank=2&RID=2Y6VY724015)).\n",
    "\n",
    "The second is the protein 2JMY, which was used to test an interval branch and prune method by Casioli et al. (2015)."
   ]
  },
  {
   "cell_type": "markdown",
   "metadata": {},
   "source": [
    "## Short Alpha Test\n",
    "Amino Acid Sequence was:\n",
    "* GLU-SER-ASP (or \"ESD\"): Glutamic Acid, Serine, Aspartic Acid\n",
    "\n",
    "Backbone and Reorder:\n",
    "* Backbone-only, reordering from Carlisle et al. (18 atoms total)\n",
    "\n",
    "Fixed Parameters:\n",
    "* From ibp-ng library file: info taken from PDB, including fixed angles and covalent bonds\n",
    "\n",
    "Restraints used were:\n",
    "* van der waals radii\n",
    "* distances, dihedral angles, and improper angles (phi and psi) given by alpha.res\n",
    "* limit was 20000 solutions\n",
    "* branch-epsilon was (max branches = 50, i.e., follows no more than the first 50 epsilons from a branch):\n",
    "    * too big: 0.07\n",
    "    * acceptable: 0.06 (less than max solutions (N=2946)!)\n",
    "    * no solutions: 0.03,0.04,0.05\n",
    "    * for reported results: 0.06 and 0.01"
   ]
  },
  {
   "cell_type": "markdown",
   "metadata": {},
   "source": [
    "## Alpha Test\n",
    "Restraints used were:\n",
    "* van der waals radii\n",
    "* distances, dihedral angles, and improper angles (phi and psi) given by alpha.res\n",
    "* limit was 10000 solutions\n",
    "* branch-epsilon was:\n",
    "    * too big: 0.07\n",
    "    * acceptable: 0.06\n",
    "    * no solutions: 0.03, 0.04, 0.05\n",
    "    * for reported results: 0.01 (branch-max = 50 & branch-max = 128 [standard setting] )"
   ]
  },
  {
   "cell_type": "markdown",
   "metadata": {},
   "source": [
    "## 2JMY Test\n",
    "Restraints used were:\n",
    "* van der waals radii\n",
    "* distances (couldn't find any solutions when 2jmy restraints were included, i.e., dihedral and imporper angles)\n",
    "* limit was 10000 solutions\n",
    "* branch-epsilon was (max ):\n",
    "    * too big: none? (no angle pruning requirement)\n",
    "    * for reported results: 0.15"
   ]
  },
  {
   "cell_type": "markdown",
   "metadata": {},
   "source": [
    "## Manually Created LaTex Table\n",
    "Here is a LaTeX table to be inserted in paper:"
   ]
  },
  {
   "cell_type": "code",
   "execution_count": 1,
   "metadata": {
    "collapsed": true
   },
   "outputs": [],
   "source": [
    "import pandas as pd"
   ]
  }
 ],
 "metadata": {
  "kernelspec": {
   "display_name": "Python 3",
   "language": "python",
   "name": "python3"
  },
  "language_info": {
   "codemirror_mode": {
    "name": "ipython",
    "version": 3
   },
   "file_extension": ".py",
   "mimetype": "text/x-python",
   "name": "python",
   "nbconvert_exporter": "python",
   "pygments_lexer": "ipython3",
   "version": "3.6.3"
  }
 },
 "nbformat": 4,
 "nbformat_minor": 2
}
