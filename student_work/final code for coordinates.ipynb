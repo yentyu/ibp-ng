{
 "cells": [
  {
   "cell_type": "markdown",
   "metadata": {},
   "source": [
    "#### Code written by: Xinyue Li"
   ]
  },
  {
   "cell_type": "code",
   "execution_count": 1,
   "metadata": {
    "collapsed": true
   },
   "outputs": [],
   "source": [
    "import numpy as np"
   ]
  },
  {
   "cell_type": "code",
   "execution_count": 2,
   "metadata": {
    "collapsed": true
   },
   "outputs": [],
   "source": [
    "#definition of function for calculating coordinates\n",
    "def coordinates(i,D,T,O):  #input number of atoms i,distance vector D,theta vector T,omega vector O\n",
    "    A = np.zeros((i,3))    #create empty matrix to store coordinates\n",
    "    \n",
    "    #calculate the 1st atom and store in A\n",
    "    C1 = np.dot(B1,ei)     \n",
    "    A[0,0]=C1[0,0]\n",
    "    A[0,1]=C1[1,0]\n",
    "    A[0,2]=C1[2,0]\n",
    "    if i == 1:\n",
    "        return A\n",
    "    \n",
    "    #calculate the first two atoms and store in A\n",
    "    mid = np.dot(B1,B2)    \n",
    "    C2 = np.dot(mid,ei)\n",
    "    A[1,0]=C2[0,0]\n",
    "    A[1,1]=C2[1,0]\n",
    "    A[1,2]=C2[2,0]\n",
    "    if i == 2:\n",
    "        return A\n",
    "    \n",
    "    #calculate the first three atoms and store in A\n",
    "    mid = np.dot(mid,B3)   \n",
    "    C3 = np.dot(mid,ei)\n",
    "    A[2,0]=C3[0,0]\n",
    "    A[2,1]=C3[1,0]\n",
    "    A[2,2]=C3[2,0]\n",
    "    if i == 3:\n",
    "        return A\n",
    "    \n",
    "    #calculate the first i atoms and store in A\n",
    "    if i>= 4:                          \n",
    "        for n in range(4,i+1,1):\n",
    "            #Matrix for the ith atom\n",
    "            Bi = np.array([[-np.cos(T[n-1]),-np.sin(T[n-1]),0,-D[n-1]*np.cos(T[n-1])],\n",
    "               [np.sin(T[n-1])*np.cos(O[n-1]),-np.cos(T[n-1])*np.cos(O[n-1]),-np.sin(O[n-1])*D[n-1],np.sin(T[n-1])*np.cos(O[n-1])],\n",
    "               [np.sin(T[n-1])*np.sin(O[n-1]),-np.cos(T[n-1])*np.sin(O[n-1]),np.cos(O[n-1])*D[n-1],np.sin(T[n-1])*np.sin(O[n-1])],\n",
    "               [0,0,0,1]])\n",
    "            #Calculating the Coordinates for the ith atom\n",
    "            mid = np.dot(mid,Bi)\n",
    "            Ci = np.dot(mid,ei)  \n",
    "            A[n-1,0]=Ci[0,0]\n",
    "            A[n-1,1]=Ci[1,0]\n",
    "            A[n-1,2]=Ci[2,0]\n",
    "        return A"
   ]
  },
  {
   "cell_type": "code",
   "execution_count": 3,
   "metadata": {
    "collapsed": true
   },
   "outputs": [],
   "source": [
    "# start to use"
   ]
  },
  {
   "cell_type": "code",
   "execution_count": 4,
   "metadata": {
    "collapsed": true
   },
   "outputs": [],
   "source": [
    "# Enter distance and angle vectors for all atoms\n",
    "dist = np.array([0,1,2,3,4,3])\n",
    "theta = np.array([0,0,30,30,30,30])\n",
    "omega = np.array([0,0,0,60,60,30])"
   ]
  },
  {
   "cell_type": "code",
   "execution_count": 5,
   "metadata": {
    "collapsed": true,
    "scrolled": true
   },
   "outputs": [],
   "source": [
    "#transformation matrix\n",
    "ei = np.array([[0],[0],[0],[1]])"
   ]
  },
  {
   "cell_type": "code",
   "execution_count": 6,
   "metadata": {
    "collapsed": true
   },
   "outputs": [],
   "source": [
    "#first transformation matrix\n",
    "B1 = np.array([[1,0,0,0],[0,1,0,0],[0,0,1,0],[0,0,0,1]])"
   ]
  },
  {
   "cell_type": "code",
   "execution_count": 7,
   "metadata": {},
   "outputs": [
    {
     "name": "stdout",
     "output_type": "stream",
     "text": [
      "B2 =\n",
      " [[-1  0  0  1]\n",
      " [ 0  1  0  0]\n",
      " [ 0  0 -1  0]\n",
      " [ 0  0  0  1]]\n"
     ]
    }
   ],
   "source": [
    "#second transfromation matrix\n",
    "B2 = np.array([[-1,0,0,dist[1]],[0,1,0,0],[0,0,-1,0],[0,0,0,1]])\n",
    "print('B2 =\\n',B2)"
   ]
  },
  {
   "cell_type": "code",
   "execution_count": 8,
   "metadata": {},
   "outputs": [
    {
     "name": "stdout",
     "output_type": "stream",
     "text": [
      "B3 =\n",
      " [[-0.15425145  0.98803162  0.         -0.3085029 ]\n",
      " [ 0.15425145 -0.15425145  0.         -1.97606325]\n",
      " [ 0.          0.          1.          0.        ]\n",
      " [ 0.          0.          0.          1.        ]]\n"
     ]
    }
   ],
   "source": [
    "#third transformation matrix\n",
    "B3 = np.array([[-np.cos(theta[2]),-np.sin(theta[2]),0,-dist[2]*np.cos(theta[2])],\n",
    "              [np.cos(theta[2]),-np.cos(theta[2]),0,dist[2]*np.sin(theta[2])],\n",
    "              [0,0,1,0],[0,0,0,1]])\n",
    "print('B3 =\\n',B3)"
   ]
  },
  {
   "cell_type": "code",
   "execution_count": 11,
   "metadata": {},
   "outputs": [
    {
     "name": "stdout",
     "output_type": "stream",
     "text": [
      "[[ 0.          0.          0.        ]\n",
      " [ 1.          0.          0.        ]\n",
      " [ 1.3085029  -1.97606325  0.        ]\n",
      " [ 0.30737064 -2.19259657 -0.30116253]\n",
      " [ 0.63044169 -2.00874444  0.7009057 ]]\n",
      "[[  0.           0.           0.        ]\n",
      " [  1.           0.           0.        ]\n",
      " [  1.3085029   -1.97606325   0.        ]\n",
      " [  0.30737064  -2.19259657  -0.30116253]\n",
      " [  0.63044169  -2.00874444   0.7009057 ]\n",
      " [  4.20373947  -1.35509787 -10.35443947]]\n"
     ]
    }
   ],
   "source": [
    "# try out \n",
    "#print (coordinates(3,dist,theta,omega))\n",
    "#print (coordinates(4,dist,theta,omega))\n",
    "print (coordinates(5,dist,theta,omega))\n",
    "print (coordinates(6,dist,theta,omega))"
   ]
  },
  {
   "cell_type": "code",
   "execution_count": null,
   "metadata": {
    "collapsed": true
   },
   "outputs": [],
   "source": []
  }
 ],
 "metadata": {
  "kernelspec": {
   "display_name": "Python 3",
   "language": "python",
   "name": "python3"
  },
  "language_info": {
   "codemirror_mode": {
    "name": "ipython",
    "version": 3
   },
   "file_extension": ".py",
   "mimetype": "text/x-python",
   "name": "python",
   "nbconvert_exporter": "python",
   "pygments_lexer": "ipython3",
   "version": "3.6.3"
  }
 },
 "nbformat": 4,
 "nbformat_minor": 2
}
